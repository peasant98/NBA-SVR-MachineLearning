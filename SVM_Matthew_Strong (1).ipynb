{
 "cells": [
  {
   "cell_type": "code",
   "execution_count": 1,
   "metadata": {},
   "outputs": [
    {
     "name": "stdout",
     "output_type": "stream",
     "text": [
      "Hello World, testing out jupyter notebook!\n"
     ]
    }
   ],
   "source": [
    "print(\"Hello World, testing out jupyter notebook!\")"
   ]
  },
  {
   "cell_type": "code",
   "execution_count": 3,
   "metadata": {},
   "outputs": [],
   "source": [
    "import pandas as pd\n",
    "import numpy as np"
   ]
  },
  {
   "cell_type": "code",
   "execution_count": 3,
   "metadata": {},
   "outputs": [
    {
     "name": "stdout",
     "output_type": "stream",
     "text": [
      "[1. 2. 3. 4. 5.]\n"
     ]
    }
   ],
   "source": [
    "x = np.array([1,2,3,4,5], dtype=float)\n",
    "print(x)\n",
    "# first numpy array"
   ]
  },
  {
   "cell_type": "code",
   "execution_count": 4,
   "metadata": {},
   "outputs": [
    {
     "name": "stdout",
     "output_type": "stream",
     "text": [
      "[1. 2. 3. 4. 5.]\n"
     ]
    }
   ],
   "source": [
    "print(x)"
   ]
  },
  {
   "cell_type": "code",
   "execution_count": 5,
   "metadata": {},
   "outputs": [
    {
     "name": "stdout",
     "output_type": "stream",
     "text": [
      "[ 4. 24.  5. 43. 68.]\n"
     ]
    }
   ],
   "source": [
    "p = np.array([4, 24, 5, 43, 68], dtype=float)\n",
    "print(p)"
   ]
  },
  {
   "cell_type": "code",
   "execution_count": 6,
   "metadata": {},
   "outputs": [
    {
     "data": {
      "text/plain": [
       "numpy.ndarray"
      ]
     },
     "execution_count": 6,
     "metadata": {},
     "output_type": "execute_result"
    }
   ],
   "source": [
    "type(p)"
   ]
  },
  {
   "cell_type": "code",
   "execution_count": 7,
   "metadata": {},
   "outputs": [
    {
     "name": "stdout",
     "output_type": "stream",
     "text": [
      "[ 20. 120.  25. 215. 340.]\n"
     ]
    }
   ],
   "source": [
    "print(5*p)"
   ]
  },
  {
   "cell_type": "code",
   "execution_count": 8,
   "metadata": {},
   "outputs": [],
   "source": [
    "z = 5 * p\n",
    "# testing out operations with numpy arrays"
   ]
  },
  {
   "cell_type": "code",
   "execution_count": null,
   "metadata": {},
   "outputs": [],
   "source": [
    "z"
   ]
  },
  {
   "cell_type": "code",
   "execution_count": 10,
   "metadata": {},
   "outputs": [
    {
     "name": "stdout",
     "output_type": "stream",
     "text": [
      "[ 20. 120.  25. 215. 340.]\n"
     ]
    }
   ],
   "source": [
    "print(z)"
   ]
  },
  {
   "cell_type": "code",
   "execution_count": 11,
   "metadata": {},
   "outputs": [
    {
     "data": {
      "text/plain": [
       "720.0"
      ]
     },
     "execution_count": 11,
     "metadata": {},
     "output_type": "execute_result"
    }
   ],
   "source": [
    "np.sum(z)"
   ]
  },
  {
   "cell_type": "code",
   "execution_count": 12,
   "metadata": {},
   "outputs": [
    {
     "data": {
      "text/plain": [
       "array([ True,  True,  True,  True,  True])"
      ]
     },
     "execution_count": 12,
     "metadata": {},
     "output_type": "execute_result"
    }
   ],
   "source": [
    "z > 10\n",
    "# returns array with booleans"
   ]
  },
  {
   "cell_type": "code",
   "execution_count": 13,
   "metadata": {},
   "outputs": [
    {
     "data": {
      "text/plain": [
       "array([False,  True, False,  True,  True])"
      ]
     },
     "execution_count": 13,
     "metadata": {},
     "output_type": "execute_result"
    }
   ],
   "source": [
    "z > 25"
   ]
  },
  {
   "cell_type": "code",
   "execution_count": 14,
   "metadata": {},
   "outputs": [
    {
     "data": {
      "text/plain": [
       "array([120., 215., 340.])"
      ]
     },
     "execution_count": 14,
     "metadata": {},
     "output_type": "execute_result"
    }
   ],
   "source": [
    "z[z>30]"
   ]
  },
  {
   "cell_type": "code",
   "execution_count": 15,
   "metadata": {},
   "outputs": [
    {
     "name": "stdout",
     "output_type": "stream",
     "text": [
      "3.141592653589793\n"
     ]
    }
   ],
   "source": [
    "print(np.pi)"
   ]
  },
  {
   "cell_type": "code",
   "execution_count": 16,
   "metadata": {},
   "outputs": [
    {
     "data": {
      "text/plain": [
       "array([4.32192809, 6.9068906 , 4.64385619, 7.74819285, 8.40939094])"
      ]
     },
     "execution_count": 16,
     "metadata": {},
     "output_type": "execute_result"
    }
   ],
   "source": [
    "np.log2(z)"
   ]
  },
  {
   "cell_type": "code",
   "execution_count": 17,
   "metadata": {},
   "outputs": [
    {
     "data": {
      "text/plain": [
       "array([1.30103   , 2.07918125, 1.39794001, 2.33243846, 2.53147892])"
      ]
     },
     "execution_count": 17,
     "metadata": {},
     "output_type": "execute_result"
    }
   ],
   "source": [
    "np.log10(z)"
   ]
  },
  {
   "cell_type": "code",
   "execution_count": 333,
   "metadata": {},
   "outputs": [
    {
     "name": "stdout",
     "output_type": "stream",
     "text": [
      "Experimenting with too much log....\n"
     ]
    }
   ],
   "source": [
    "print(\"Experimenting with too much log....\")\n",
    "#np.log120(z)\n",
    "# this caused an error\n"
   ]
  },
  {
   "cell_type": "code",
   "execution_count": 19,
   "metadata": {},
   "outputs": [],
   "source": [
    "# higher log values does not exist with numpy\n",
    "a = pd.Series([1, 2, 3, 4, 5, 6])"
   ]
  },
  {
   "cell_type": "code",
   "execution_count": 20,
   "metadata": {},
   "outputs": [
    {
     "data": {
      "text/plain": [
       "0    1\n",
       "1    2\n",
       "2    3\n",
       "3    4\n",
       "4    5\n",
       "5    6\n",
       "dtype: int64"
      ]
     },
     "execution_count": 20,
     "metadata": {},
     "output_type": "execute_result"
    }
   ],
   "source": [
    "a"
   ]
  },
  {
   "cell_type": "code",
   "execution_count": 21,
   "metadata": {},
   "outputs": [
    {
     "data": {
      "text/plain": [
       "numpy.ndarray"
      ]
     },
     "execution_count": 21,
     "metadata": {},
     "output_type": "execute_result"
    }
   ],
   "source": [
    "type(a.values)"
   ]
  },
  {
   "cell_type": "code",
   "execution_count": 22,
   "metadata": {},
   "outputs": [
    {
     "data": {
      "text/plain": [
       "21"
      ]
     },
     "execution_count": 22,
     "metadata": {},
     "output_type": "execute_result"
    }
   ],
   "source": [
    "np.sum(a.values)"
   ]
  },
  {
   "cell_type": "code",
   "execution_count": 23,
   "metadata": {},
   "outputs": [
    {
     "data": {
      "text/plain": [
       "RangeIndex(start=0, stop=6, step=1)"
      ]
     },
     "execution_count": 23,
     "metadata": {},
     "output_type": "execute_result"
    }
   ],
   "source": [
    "a.index"
   ]
  },
  {
   "cell_type": "code",
   "execution_count": 24,
   "metadata": {},
   "outputs": [
    {
     "name": "stdout",
     "output_type": "stream",
     "text": [
      "RangeIndex(start=0, stop=6, step=1)\n"
     ]
    }
   ],
   "source": [
    "print(a.index)"
   ]
  },
  {
   "cell_type": "code",
   "execution_count": 25,
   "metadata": {},
   "outputs": [
    {
     "name": "stdout",
     "output_type": "stream",
     "text": [
      "Anthony Davis      28\n",
      "James Harden       30\n",
      "LeBron James       27\n",
      "Damian Lilliard    28\n",
      "dtype: int64\n"
     ]
    }
   ],
   "source": [
    "players = pd.Series([28, 30, 27, 28], index=[\"Anthony Davis\", \"James Harden\", \"LeBron James\", \"Damian Lilliard\"])\n",
    "print(players)"
   ]
  },
  {
   "cell_type": "code",
   "execution_count": 26,
   "metadata": {},
   "outputs": [
    {
     "data": {
      "text/plain": [
       "James Harden    30\n",
       "dtype: int64"
      ]
     },
     "execution_count": 26,
     "metadata": {},
     "output_type": "execute_result"
    }
   ],
   "source": [
    "players[players> 28]\n",
    "# the games leading scorer and 'MVP'"
   ]
  },
  {
   "cell_type": "code",
   "execution_count": 27,
   "metadata": {},
   "outputs": [],
   "source": [
    "topscore = list(players.values)"
   ]
  },
  {
   "cell_type": "code",
   "execution_count": 28,
   "metadata": {},
   "outputs": [
    {
     "data": {
      "text/plain": [
       "[28, 30, 27, 28]"
      ]
     },
     "execution_count": 28,
     "metadata": {},
     "output_type": "execute_result"
    }
   ],
   "source": [
    "topscore"
   ]
  },
  {
   "cell_type": "code",
   "execution_count": 29,
   "metadata": {},
   "outputs": [
    {
     "name": "stdout",
     "output_type": "stream",
     "text": [
      "30\n"
     ]
    }
   ],
   "source": [
    "print(max(topscore))"
   ]
  },
  {
   "cell_type": "code",
   "execution_count": 30,
   "metadata": {},
   "outputs": [
    {
     "name": "stdout",
     "output_type": "stream",
     "text": [
      "27\n"
     ]
    }
   ],
   "source": [
    "print(min(topscore))"
   ]
  },
  {
   "cell_type": "code",
   "execution_count": 31,
   "metadata": {},
   "outputs": [
    {
     "data": {
      "text/plain": [
       "True"
      ]
     },
     "execution_count": 31,
     "metadata": {},
     "output_type": "execute_result"
    }
   ],
   "source": [
    "\"Anthony Davis\" in players"
   ]
  },
  {
   "cell_type": "code",
   "execution_count": 32,
   "metadata": {},
   "outputs": [
    {
     "data": {
      "text/plain": [
       "False"
      ]
     },
     "execution_count": 32,
     "metadata": {},
     "output_type": "execute_result"
    }
   ],
   "source": [
    "\"Bob Simmons\" in players"
   ]
  },
  {
   "cell_type": "code",
   "execution_count": 5,
   "metadata": {},
   "outputs": [
    {
     "data": {
      "text/plain": [
       "True"
      ]
     },
     "execution_count": 5,
     "metadata": {},
     "output_type": "execute_result"
    }
   ],
   "source": [
    "\"LeBron James\" in players\n",
    "# more testing"
   ]
  },
  {
   "cell_type": "code",
   "execution_count": 4,
   "metadata": {},
   "outputs": [
    {
     "name": "stdout",
     "output_type": "stream",
     "text": [
      "Anthony Davis      28\n",
      "James Harden       30\n",
      "LeBron James       27\n",
      "Damian Lilliard    28\n",
      "dtype: int64\n"
     ]
    }
   ],
   "source": [
    "players = pd.Series([28, 30, 27, 28], index=[\"Anthony Davis\", \"James Harden\", \"LeBron James\", \"Damian Lilliard\"])\n",
    "print(players)\n"
   ]
  },
  {
   "cell_type": "code",
   "execution_count": 6,
   "metadata": {},
   "outputs": [
    {
     "data": {
      "text/plain": [
       "True"
      ]
     },
     "execution_count": 6,
     "metadata": {},
     "output_type": "execute_result"
    }
   ],
   "source": [
    "\"LeBron James\" in players"
   ]
  },
  {
   "cell_type": "code",
   "execution_count": 7,
   "metadata": {},
   "outputs": [
    {
     "data": {
      "text/plain": [
       "James Harden    30\n",
       "dtype: int64"
      ]
     },
     "execution_count": 7,
     "metadata": {},
     "output_type": "execute_result"
    }
   ],
   "source": [
    "players[players > 28]"
   ]
  },
  {
   "cell_type": "code",
   "execution_count": 8,
   "metadata": {},
   "outputs": [
    {
     "data": {
      "text/plain": [
       "Anthony Davis      28\n",
       "James Harden       30\n",
       "Damian Lilliard    28\n",
       "dtype: int64"
      ]
     },
     "execution_count": 8,
     "metadata": {},
     "output_type": "execute_result"
    }
   ],
   "source": [
    "players[players > 27]"
   ]
  },
  {
   "cell_type": "code",
   "execution_count": 9,
   "metadata": {},
   "outputs": [],
   "source": [
    "elDict = {'players':[\"Matthew Strong\", \"\"]}"
   ]
  },
  {
   "cell_type": "code",
   "execution_count": 10,
   "metadata": {},
   "outputs": [
    {
     "data": {
      "text/plain": [
       "{'players': ['Matthew Strong', '']}"
      ]
     },
     "execution_count": 10,
     "metadata": {},
     "output_type": "execute_result"
    }
   ],
   "source": [
    "elDict"
   ]
  },
  {
   "cell_type": "code",
   "execution_count": 11,
   "metadata": {},
   "outputs": [],
   "source": [
    "elDict = {'players':[\"Matthew Strong\", \"LeBron James\", \"Joel Embiid\", \"Michael Jordan\"], 'PPG':[1, 27, 20, 30], 'Team':[\"Baby Bobby Ballers\", \"Los Angeles Lakers\", \"Philadelphia 76ers\"]}"
   ]
  },
  {
   "cell_type": "code",
   "execution_count": 12,
   "metadata": {},
   "outputs": [
    {
     "data": {
      "text/plain": [
       "{'PPG': [1, 27, 20, 30],\n",
       " 'Team': ['Baby Bobby Ballers', 'Los Angeles Lakers', 'Philadelphia 76ers'],\n",
       " 'players': ['Matthew Strong',\n",
       "  'LeBron James',\n",
       "  'Joel Embiid',\n",
       "  'Michael Jordan']}"
      ]
     },
     "execution_count": 12,
     "metadata": {},
     "output_type": "execute_result"
    }
   ],
   "source": [
    "elDict"
   ]
  },
  {
   "cell_type": "code",
   "execution_count": 273,
   "metadata": {},
   "outputs": [],
   "source": [
    "#data = pd.DataFrame(elDict)"
   ]
  },
  {
   "cell_type": "code",
   "execution_count": 14,
   "metadata": {},
   "outputs": [],
   "source": [
    "elDict = {'players':[\"Matthew Strong\", \"LeBron James\", \"Joel Embiid\", \"Michael Jordan\"], 'PPG':[1, 27, 20, 30], 'Team':[\"Baby Bobby Ballers\", \"Los Angeles Lakers\", \"Philadelphia 76ers\", \"Chicago Bulls\"]}"
   ]
  },
  {
   "cell_type": "code",
   "execution_count": 15,
   "metadata": {},
   "outputs": [
    {
     "data": {
      "text/plain": [
       "{'PPG': [1, 27, 20, 30],\n",
       " 'Team': ['Baby Bobby Ballers',\n",
       "  'Los Angeles Lakers',\n",
       "  'Philadelphia 76ers',\n",
       "  'Chicago Bulls'],\n",
       " 'players': ['Matthew Strong',\n",
       "  'LeBron James',\n",
       "  'Joel Embiid',\n",
       "  'Michael Jordan']}"
      ]
     },
     "execution_count": 15,
     "metadata": {},
     "output_type": "execute_result"
    }
   ],
   "source": [
    "elDict"
   ]
  },
  {
   "cell_type": "code",
   "execution_count": 16,
   "metadata": {},
   "outputs": [],
   "source": [
    "dataNBA = pd.DataFrame(elDict)"
   ]
  },
  {
   "cell_type": "code",
   "execution_count": 17,
   "metadata": {},
   "outputs": [
    {
     "data": {
      "text/html": [
       "<div>\n",
       "<style scoped>\n",
       "    .dataframe tbody tr th:only-of-type {\n",
       "        vertical-align: middle;\n",
       "    }\n",
       "\n",
       "    .dataframe tbody tr th {\n",
       "        vertical-align: top;\n",
       "    }\n",
       "\n",
       "    .dataframe thead th {\n",
       "        text-align: right;\n",
       "    }\n",
       "</style>\n",
       "<table border=\"1\" class=\"dataframe\">\n",
       "  <thead>\n",
       "    <tr style=\"text-align: right;\">\n",
       "      <th></th>\n",
       "      <th>PPG</th>\n",
       "      <th>Team</th>\n",
       "      <th>players</th>\n",
       "    </tr>\n",
       "  </thead>\n",
       "  <tbody>\n",
       "    <tr>\n",
       "      <th>0</th>\n",
       "      <td>1</td>\n",
       "      <td>Baby Bobby Ballers</td>\n",
       "      <td>Matthew Strong</td>\n",
       "    </tr>\n",
       "    <tr>\n",
       "      <th>1</th>\n",
       "      <td>27</td>\n",
       "      <td>Los Angeles Lakers</td>\n",
       "      <td>LeBron James</td>\n",
       "    </tr>\n",
       "    <tr>\n",
       "      <th>2</th>\n",
       "      <td>20</td>\n",
       "      <td>Philadelphia 76ers</td>\n",
       "      <td>Joel Embiid</td>\n",
       "    </tr>\n",
       "    <tr>\n",
       "      <th>3</th>\n",
       "      <td>30</td>\n",
       "      <td>Chicago Bulls</td>\n",
       "      <td>Michael Jordan</td>\n",
       "    </tr>\n",
       "  </tbody>\n",
       "</table>\n",
       "</div>"
      ],
      "text/plain": [
       "   PPG                Team         players\n",
       "0    1  Baby Bobby Ballers  Matthew Strong\n",
       "1   27  Los Angeles Lakers    LeBron James\n",
       "2   20  Philadelphia 76ers     Joel Embiid\n",
       "3   30       Chicago Bulls  Michael Jordan"
      ]
     },
     "execution_count": 17,
     "metadata": {},
     "output_type": "execute_result"
    }
   ],
   "source": [
    "dataNBA"
   ]
  },
  {
   "cell_type": "code",
   "execution_count": 18,
   "metadata": {},
   "outputs": [
    {
     "name": "stdout",
     "output_type": "stream",
     "text": [
      "   PPG                Team         players\n",
      "0    1  Baby Bobby Ballers  Matthew Strong\n",
      "1   27  Los Angeles Lakers    LeBron James\n",
      "2   20  Philadelphia 76ers     Joel Embiid\n",
      "3   30       Chicago Bulls  Michael Jordan\n"
     ]
    }
   ],
   "source": [
    "print(dataNBA)"
   ]
  },
  {
   "cell_type": "code",
   "execution_count": 19,
   "metadata": {},
   "outputs": [
    {
     "data": {
      "text/html": [
       "<div>\n",
       "<style scoped>\n",
       "    .dataframe tbody tr th:only-of-type {\n",
       "        vertical-align: middle;\n",
       "    }\n",
       "\n",
       "    .dataframe tbody tr th {\n",
       "        vertical-align: top;\n",
       "    }\n",
       "\n",
       "    .dataframe thead th {\n",
       "        text-align: right;\n",
       "    }\n",
       "</style>\n",
       "<table border=\"1\" class=\"dataframe\">\n",
       "  <thead>\n",
       "    <tr style=\"text-align: right;\">\n",
       "      <th></th>\n",
       "      <th>PPG</th>\n",
       "      <th>Team</th>\n",
       "      <th>players</th>\n",
       "    </tr>\n",
       "  </thead>\n",
       "  <tbody>\n",
       "    <tr>\n",
       "      <th>0</th>\n",
       "      <td>1</td>\n",
       "      <td>Baby Bobby Ballers</td>\n",
       "      <td>Matthew Strong</td>\n",
       "    </tr>\n",
       "    <tr>\n",
       "      <th>1</th>\n",
       "      <td>27</td>\n",
       "      <td>Los Angeles Lakers</td>\n",
       "      <td>LeBron James</td>\n",
       "    </tr>\n",
       "    <tr>\n",
       "      <th>2</th>\n",
       "      <td>20</td>\n",
       "      <td>Philadelphia 76ers</td>\n",
       "      <td>Joel Embiid</td>\n",
       "    </tr>\n",
       "    <tr>\n",
       "      <th>3</th>\n",
       "      <td>30</td>\n",
       "      <td>Chicago Bulls</td>\n",
       "      <td>Michael Jordan</td>\n",
       "    </tr>\n",
       "  </tbody>\n",
       "</table>\n",
       "</div>"
      ],
      "text/plain": [
       "   PPG                Team         players\n",
       "0    1  Baby Bobby Ballers  Matthew Strong\n",
       "1   27  Los Angeles Lakers    LeBron James\n",
       "2   20  Philadelphia 76ers     Joel Embiid\n",
       "3   30       Chicago Bulls  Michael Jordan"
      ]
     },
     "execution_count": 19,
     "metadata": {},
     "output_type": "execute_result"
    }
   ],
   "source": [
    "dataNBA"
   ]
  },
  {
   "cell_type": "code",
   "execution_count": 20,
   "metadata": {},
   "outputs": [
    {
     "data": {
      "text/html": [
       "<div>\n",
       "<style scoped>\n",
       "    .dataframe tbody tr th:only-of-type {\n",
       "        vertical-align: middle;\n",
       "    }\n",
       "\n",
       "    .dataframe tbody tr th {\n",
       "        vertical-align: top;\n",
       "    }\n",
       "\n",
       "    .dataframe thead th {\n",
       "        text-align: right;\n",
       "    }\n",
       "</style>\n",
       "<table border=\"1\" class=\"dataframe\">\n",
       "  <thead>\n",
       "    <tr style=\"text-align: right;\">\n",
       "      <th></th>\n",
       "      <th>PPG</th>\n",
       "      <th>Team</th>\n",
       "      <th>players</th>\n",
       "    </tr>\n",
       "  </thead>\n",
       "  <tbody>\n",
       "    <tr>\n",
       "      <th>0</th>\n",
       "      <td>1</td>\n",
       "      <td>Baby Bobby Ballers</td>\n",
       "      <td>Matthew Strong</td>\n",
       "    </tr>\n",
       "    <tr>\n",
       "      <th>1</th>\n",
       "      <td>27</td>\n",
       "      <td>Los Angeles Lakers</td>\n",
       "      <td>LeBron James</td>\n",
       "    </tr>\n",
       "  </tbody>\n",
       "</table>\n",
       "</div>"
      ],
      "text/plain": [
       "   PPG                Team         players\n",
       "0    1  Baby Bobby Ballers  Matthew Strong\n",
       "1   27  Los Angeles Lakers    LeBron James"
      ]
     },
     "execution_count": 20,
     "metadata": {},
     "output_type": "execute_result"
    }
   ],
   "source": [
    "dataNBA.head(2)"
   ]
  },
  {
   "cell_type": "code",
   "execution_count": 334,
   "metadata": {},
   "outputs": [],
   "source": [
    "# (deleted)\n"
   ]
  },
  {
   "cell_type": "code",
   "execution_count": 22,
   "metadata": {},
   "outputs": [
    {
     "data": {
      "text/html": [
       "<div>\n",
       "<style scoped>\n",
       "    .dataframe tbody tr th:only-of-type {\n",
       "        vertical-align: middle;\n",
       "    }\n",
       "\n",
       "    .dataframe tbody tr th {\n",
       "        vertical-align: top;\n",
       "    }\n",
       "\n",
       "    .dataframe thead th {\n",
       "        text-align: right;\n",
       "    }\n",
       "</style>\n",
       "<table border=\"1\" class=\"dataframe\">\n",
       "  <thead>\n",
       "    <tr style=\"text-align: right;\">\n",
       "      <th></th>\n",
       "      <th>PPG</th>\n",
       "      <th>Team</th>\n",
       "      <th>players</th>\n",
       "    </tr>\n",
       "  </thead>\n",
       "  <tbody>\n",
       "    <tr>\n",
       "      <th>3</th>\n",
       "      <td>30</td>\n",
       "      <td>Chicago Bulls</td>\n",
       "      <td>Michael Jordan</td>\n",
       "    </tr>\n",
       "    <tr>\n",
       "      <th>1</th>\n",
       "      <td>27</td>\n",
       "      <td>Los Angeles Lakers</td>\n",
       "      <td>LeBron James</td>\n",
       "    </tr>\n",
       "    <tr>\n",
       "      <th>2</th>\n",
       "      <td>20</td>\n",
       "      <td>Philadelphia 76ers</td>\n",
       "      <td>Joel Embiid</td>\n",
       "    </tr>\n",
       "    <tr>\n",
       "      <th>0</th>\n",
       "      <td>1</td>\n",
       "      <td>Baby Bobby Ballers</td>\n",
       "      <td>Matthew Strong</td>\n",
       "    </tr>\n",
       "  </tbody>\n",
       "</table>\n",
       "</div>"
      ],
      "text/plain": [
       "   PPG                Team         players\n",
       "3   30       Chicago Bulls  Michael Jordan\n",
       "1   27  Los Angeles Lakers    LeBron James\n",
       "2   20  Philadelphia 76ers     Joel Embiid\n",
       "0    1  Baby Bobby Ballers  Matthew Strong"
      ]
     },
     "execution_count": 22,
     "metadata": {},
     "output_type": "execute_result"
    }
   ],
   "source": [
    "playersSorted = dataNBA.sort_values(by=\"PPG\", ascending=False)\n",
    "playersSorted"
   ]
  },
  {
   "cell_type": "code",
   "execution_count": 23,
   "metadata": {},
   "outputs": [
    {
     "data": {
      "text/plain": [
       "0    False\n",
       "1     True\n",
       "2    False\n",
       "3     True\n",
       "Name: PPG, dtype: bool"
      ]
     },
     "execution_count": 23,
     "metadata": {},
     "output_type": "execute_result"
    }
   ],
   "source": [
    "dataNBA[\"PPG\"] > 20"
   ]
  },
  {
   "cell_type": "code",
   "execution_count": 25,
   "metadata": {},
   "outputs": [
    {
     "data": {
      "text/plain": [
       "0    False\n",
       "1     True\n",
       "2     True\n",
       "3     True\n",
       "Name: PPG, dtype: bool"
      ]
     },
     "execution_count": 25,
     "metadata": {},
     "output_type": "execute_result"
    }
   ],
   "source": [
    "dataNBA[\"PPG\"] > 15"
   ]
  },
  {
   "cell_type": "code",
   "execution_count": 26,
   "metadata": {},
   "outputs": [],
   "source": [
    "p = pd.Series(dataNBA[\"PPG\"] > 15)"
   ]
  },
  {
   "cell_type": "code",
   "execution_count": 27,
   "metadata": {},
   "outputs": [
    {
     "data": {
      "text/plain": [
       "0    False\n",
       "1     True\n",
       "2     True\n",
       "3     True\n",
       "Name: PPG, dtype: bool"
      ]
     },
     "execution_count": 27,
     "metadata": {},
     "output_type": "execute_result"
    }
   ],
   "source": [
    "p"
   ]
  },
  {
   "cell_type": "code",
   "execution_count": 272,
   "metadata": {},
   "outputs": [
    {
     "data": {
      "text/plain": [
       "<pandas.core.groupby.DataFrameGroupBy object at 0x000002B626818EB8>"
      ]
     },
     "execution_count": 272,
     "metadata": {},
     "output_type": "execute_result"
    }
   ],
   "source": [
    "dataNBA.groupby(\"PPG\")"
   ]
  },
  {
   "cell_type": "code",
   "execution_count": 29,
   "metadata": {},
   "outputs": [
    {
     "data": {
      "text/plain": [
       "<pandas.core.groupby.DataFrameGroupBy object at 0x000002B622A0BB00>"
      ]
     },
     "execution_count": 29,
     "metadata": {},
     "output_type": "execute_result"
    }
   ],
   "source": [
    "dataNBA.groupby(\"PPG\")"
   ]
  },
  {
   "cell_type": "code",
   "execution_count": 30,
   "metadata": {},
   "outputs": [
    {
     "name": "stdout",
     "output_type": "stream",
     "text": [
      "<pandas.core.groupby.DataFrameGroupBy object at 0x000002B622F6A5F8>\n"
     ]
    }
   ],
   "source": [
    "print(dataNBA.groupby(\"PPG\"))"
   ]
  },
  {
   "cell_type": "code",
   "execution_count": 31,
   "metadata": {},
   "outputs": [
    {
     "data": {
      "text/html": [
       "<div>\n",
       "<style scoped>\n",
       "    .dataframe tbody tr th:only-of-type {\n",
       "        vertical-align: middle;\n",
       "    }\n",
       "\n",
       "    .dataframe tbody tr th {\n",
       "        vertical-align: top;\n",
       "    }\n",
       "\n",
       "    .dataframe thead th {\n",
       "        text-align: right;\n",
       "    }\n",
       "</style>\n",
       "<table border=\"1\" class=\"dataframe\">\n",
       "  <thead>\n",
       "    <tr style=\"text-align: right;\">\n",
       "      <th></th>\n",
       "      <th>PPG</th>\n",
       "      <th>Team</th>\n",
       "      <th>players</th>\n",
       "    </tr>\n",
       "  </thead>\n",
       "  <tbody>\n",
       "    <tr>\n",
       "      <th>0</th>\n",
       "      <td>1</td>\n",
       "      <td>Baby Bobby Ballers</td>\n",
       "      <td>Matthew Strong</td>\n",
       "    </tr>\n",
       "    <tr>\n",
       "      <th>1</th>\n",
       "      <td>27</td>\n",
       "      <td>Los Angeles Lakers</td>\n",
       "      <td>LeBron James</td>\n",
       "    </tr>\n",
       "    <tr>\n",
       "      <th>2</th>\n",
       "      <td>20</td>\n",
       "      <td>Philadelphia 76ers</td>\n",
       "      <td>Joel Embiid</td>\n",
       "    </tr>\n",
       "    <tr>\n",
       "      <th>3</th>\n",
       "      <td>30</td>\n",
       "      <td>Chicago Bulls</td>\n",
       "      <td>Michael Jordan</td>\n",
       "    </tr>\n",
       "  </tbody>\n",
       "</table>\n",
       "</div>"
      ],
      "text/plain": [
       "   PPG                Team         players\n",
       "0    1  Baby Bobby Ballers  Matthew Strong\n",
       "1   27  Los Angeles Lakers    LeBron James\n",
       "2   20  Philadelphia 76ers     Joel Embiid\n",
       "3   30       Chicago Bulls  Michael Jordan"
      ]
     },
     "execution_count": 31,
     "metadata": {},
     "output_type": "execute_result"
    }
   ],
   "source": [
    "dataNBA"
   ]
  },
  {
   "cell_type": "code",
   "execution_count": 32,
   "metadata": {},
   "outputs": [
    {
     "data": {
      "text/plain": [
       "0     1\n",
       "1    27\n",
       "2    20\n",
       "3    30\n",
       "Name: PPG, dtype: int64"
      ]
     },
     "execution_count": 32,
     "metadata": {},
     "output_type": "execute_result"
    }
   ],
   "source": [
    "dataNBA[\"PPG\"]"
   ]
  },
  {
   "cell_type": "code",
   "execution_count": 33,
   "metadata": {},
   "outputs": [
    {
     "data": {
      "text/plain": [
       "0     2\n",
       "1    28\n",
       "2    21\n",
       "3    31\n",
       "Name: PPG, dtype: int64"
      ]
     },
     "execution_count": 33,
     "metadata": {},
     "output_type": "execute_result"
    }
   ],
   "source": [
    "dataNBA[\"PPG\"].apply(lambda x: x +1)"
   ]
  },
  {
   "cell_type": "code",
   "execution_count": 34,
   "metadata": {},
   "outputs": [
    {
     "data": {
      "text/html": [
       "<div>\n",
       "<style scoped>\n",
       "    .dataframe tbody tr th:only-of-type {\n",
       "        vertical-align: middle;\n",
       "    }\n",
       "\n",
       "    .dataframe tbody tr th {\n",
       "        vertical-align: top;\n",
       "    }\n",
       "\n",
       "    .dataframe thead th {\n",
       "        text-align: right;\n",
       "    }\n",
       "</style>\n",
       "<table border=\"1\" class=\"dataframe\">\n",
       "  <thead>\n",
       "    <tr style=\"text-align: right;\">\n",
       "      <th></th>\n",
       "      <th>PPG</th>\n",
       "      <th>Team</th>\n",
       "      <th>players</th>\n",
       "    </tr>\n",
       "  </thead>\n",
       "  <tbody>\n",
       "    <tr>\n",
       "      <th>0</th>\n",
       "      <td>1</td>\n",
       "      <td>Baby Bobby Ballers</td>\n",
       "      <td>Matthew Strong</td>\n",
       "    </tr>\n",
       "    <tr>\n",
       "      <th>1</th>\n",
       "      <td>27</td>\n",
       "      <td>Los Angeles Lakers</td>\n",
       "      <td>LeBron James</td>\n",
       "    </tr>\n",
       "    <tr>\n",
       "      <th>2</th>\n",
       "      <td>20</td>\n",
       "      <td>Philadelphia 76ers</td>\n",
       "      <td>Joel Embiid</td>\n",
       "    </tr>\n",
       "    <tr>\n",
       "      <th>3</th>\n",
       "      <td>30</td>\n",
       "      <td>Chicago Bulls</td>\n",
       "      <td>Michael Jordan</td>\n",
       "    </tr>\n",
       "  </tbody>\n",
       "</table>\n",
       "</div>"
      ],
      "text/plain": [
       "   PPG                Team         players\n",
       "0    1  Baby Bobby Ballers  Matthew Strong\n",
       "1   27  Los Angeles Lakers    LeBron James\n",
       "2   20  Philadelphia 76ers     Joel Embiid\n",
       "3   30       Chicago Bulls  Michael Jordan"
      ]
     },
     "execution_count": 34,
     "metadata": {},
     "output_type": "execute_result"
    }
   ],
   "source": [
    "dataNBA\n"
   ]
  },
  {
   "cell_type": "code",
   "execution_count": 35,
   "metadata": {},
   "outputs": [
    {
     "data": {
      "text/plain": [
       "0     1\n",
       "1    27\n",
       "2    20\n",
       "3    30\n",
       "Name: PPG, dtype: int64"
      ]
     },
     "execution_count": 35,
     "metadata": {},
     "output_type": "execute_result"
    }
   ],
   "source": [
    "dataNBA[\"PPG\"]"
   ]
  },
  {
   "cell_type": "code",
   "execution_count": 36,
   "metadata": {},
   "outputs": [],
   "source": [
    "dataNBA[\"PPG\"] = dataNBA[\"PPG\"].apply(lambda x: x +1)\n",
    "# testing lamba"
   ]
  },
  {
   "cell_type": "code",
   "execution_count": 37,
   "metadata": {},
   "outputs": [
    {
     "data": {
      "text/html": [
       "<div>\n",
       "<style scoped>\n",
       "    .dataframe tbody tr th:only-of-type {\n",
       "        vertical-align: middle;\n",
       "    }\n",
       "\n",
       "    .dataframe tbody tr th {\n",
       "        vertical-align: top;\n",
       "    }\n",
       "\n",
       "    .dataframe thead th {\n",
       "        text-align: right;\n",
       "    }\n",
       "</style>\n",
       "<table border=\"1\" class=\"dataframe\">\n",
       "  <thead>\n",
       "    <tr style=\"text-align: right;\">\n",
       "      <th></th>\n",
       "      <th>PPG</th>\n",
       "      <th>Team</th>\n",
       "      <th>players</th>\n",
       "    </tr>\n",
       "  </thead>\n",
       "  <tbody>\n",
       "    <tr>\n",
       "      <th>0</th>\n",
       "      <td>2</td>\n",
       "      <td>Baby Bobby Ballers</td>\n",
       "      <td>Matthew Strong</td>\n",
       "    </tr>\n",
       "    <tr>\n",
       "      <th>1</th>\n",
       "      <td>28</td>\n",
       "      <td>Los Angeles Lakers</td>\n",
       "      <td>LeBron James</td>\n",
       "    </tr>\n",
       "    <tr>\n",
       "      <th>2</th>\n",
       "      <td>21</td>\n",
       "      <td>Philadelphia 76ers</td>\n",
       "      <td>Joel Embiid</td>\n",
       "    </tr>\n",
       "    <tr>\n",
       "      <th>3</th>\n",
       "      <td>31</td>\n",
       "      <td>Chicago Bulls</td>\n",
       "      <td>Michael Jordan</td>\n",
       "    </tr>\n",
       "  </tbody>\n",
       "</table>\n",
       "</div>"
      ],
      "text/plain": [
       "   PPG                Team         players\n",
       "0    2  Baby Bobby Ballers  Matthew Strong\n",
       "1   28  Los Angeles Lakers    LeBron James\n",
       "2   21  Philadelphia 76ers     Joel Embiid\n",
       "3   31       Chicago Bulls  Michael Jordan"
      ]
     },
     "execution_count": 37,
     "metadata": {},
     "output_type": "execute_result"
    }
   ],
   "source": [
    "dataNBA "
   ]
  },
  {
   "cell_type": "code",
   "execution_count": 38,
   "metadata": {},
   "outputs": [],
   "source": [
    "from sklearn import svm\n",
    "# moving on to svm "
   ]
  },
  {
   "cell_type": "code",
   "execution_count": 39,
   "metadata": {},
   "outputs": [],
   "source": [
    "X = [[0,0], [2,2]]\n",
    "y=[2.5, 4.5]\n",
    "client = svm.SVR()\n",
    "# support vector regression"
   ]
  },
  {
   "cell_type": "code",
   "execution_count": 40,
   "metadata": {},
   "outputs": [
    {
     "data": {
      "text/plain": [
       "SVR(C=1.0, cache_size=200, coef0=0.0, degree=3, epsilon=0.1, gamma='auto',\n",
       "  kernel='rbf', max_iter=-1, shrinking=True, tol=0.001, verbose=False)"
      ]
     },
     "execution_count": 40,
     "metadata": {},
     "output_type": "execute_result"
    }
   ],
   "source": [
    "client.fit(X,y)"
   ]
  },
  {
   "cell_type": "code",
   "execution_count": 271,
   "metadata": {},
   "outputs": [
    {
     "name": "stdout",
     "output_type": "stream",
     "text": [
      "More testing on the way....\n"
     ]
    }
   ],
   "source": [
    "print(\"More testing on the way....\")"
   ]
  },
  {
   "cell_type": "code",
   "execution_count": 42,
   "metadata": {},
   "outputs": [
    {
     "data": {
      "text/plain": [
       "array([3.5])"
      ]
     },
     "execution_count": 42,
     "metadata": {},
     "output_type": "execute_result"
    }
   ],
   "source": [
    "client.predict([[1,1]])"
   ]
  },
  {
   "cell_type": "code",
   "execution_count": 43,
   "metadata": {},
   "outputs": [
    {
     "data": {
      "text/plain": [
       "array([3.50011314])"
      ]
     },
     "execution_count": 43,
     "metadata": {},
     "output_type": "execute_result"
    }
   ],
   "source": [
    "client.predict([[5,5]])"
   ]
  },
  {
   "cell_type": "code",
   "execution_count": 45,
   "metadata": {},
   "outputs": [
    {
     "data": {
      "text/plain": [
       "array([4.4])"
      ]
     },
     "execution_count": 45,
     "metadata": {},
     "output_type": "execute_result"
    }
   ],
   "source": [
    "client.predict([[2,2]])"
   ]
  },
  {
   "cell_type": "code",
   "execution_count": 46,
   "metadata": {},
   "outputs": [],
   "source": [
    "vo = np.array([1, 2, 4])"
   ]
  },
  {
   "cell_type": "code",
   "execution_count": 47,
   "metadata": {},
   "outputs": [
    {
     "data": {
      "text/plain": [
       "array([1, 2, 4])"
      ]
     },
     "execution_count": 47,
     "metadata": {},
     "output_type": "execute_result"
    }
   ],
   "source": [
    "vo\n"
   ]
  },
  {
   "cell_type": "code",
   "execution_count": 48,
   "metadata": {},
   "outputs": [
    {
     "name": "stdout",
     "output_type": "stream",
     "text": [
      "[1 2 4]\n"
     ]
    }
   ],
   "source": [
    "print(vo)"
   ]
  },
  {
   "cell_type": "code",
   "execution_count": 49,
   "metadata": {},
   "outputs": [
    {
     "name": "stdout",
     "output_type": "stream",
     "text": [
      "[1, 2, 4]\n"
     ]
    }
   ],
   "source": [
    "print([1, 2, 4])"
   ]
  },
  {
   "cell_type": "code",
   "execution_count": 270,
   "metadata": {},
   "outputs": [],
   "source": [
    "clr = svm.SVR()\n"
   ]
  },
  {
   "cell_type": "code",
   "execution_count": 62,
   "metadata": {},
   "outputs": [],
   "source": [
    "X = [[0,0], [2,2], [3,3]]\n",
    "y=[2.5, 4.5]\n",
    "client = svm.SVR()"
   ]
  },
  {
   "cell_type": "code",
   "execution_count": 346,
   "metadata": {},
   "outputs": [
    {
     "data": {
      "text/plain": [
       "SVR(C=1.0, cache_size=200, coef0=0.0, degree=3, epsilon=0.1, gamma='auto',\n",
       "  kernel='linear', max_iter=-1, shrinking=True, tol=0.001, verbose=False)"
      ]
     },
     "execution_count": 346,
     "metadata": {},
     "output_type": "execute_result"
    }
   ],
   "source": [
    "X=[[0,0], [1,1], [2,2], [3,3], [4,4]]\n",
    "y=[0,0.5, 1, 1.5, 2]\n",
    "client = svm.SVR(kernel='linear')\n",
    "client.fit(X,y)\n",
    "#print(\"{} and {}\".format(X,y))\n"
   ]
  },
  {
   "cell_type": "code",
   "execution_count": 348,
   "metadata": {},
   "outputs": [
    {
     "data": {
      "text/plain": [
       "array([1.225])"
      ]
     },
     "execution_count": 348,
     "metadata": {},
     "output_type": "execute_result"
    }
   ],
   "source": [
    "client.predict([[2.5, 2.5]])\n"
   ]
  },
  {
   "cell_type": "code",
   "execution_count": 355,
   "metadata": {},
   "outputs": [
    {
     "name": "stdout",
     "output_type": "stream",
     "text": [
      "Hi\n",
      "100 was the score out of 100\n"
     ]
    }
   ],
   "source": [
    "print(\"Hi\")\n",
    "client.predict([[2.75, 2.75]])\n",
    "# ...\n",
    "x = client.score([[2.5, 2.5]], [1.225])\n",
    "val = int(x *100)\n",
    "print(\"{} was the score out of 100\".format(val))"
   ]
  },
  {
   "cell_type": "code",
   "execution_count": 90,
   "metadata": {},
   "outputs": [
    {
     "data": {
      "text/plain": [
       "SVR(C=1.0, cache_size=200, coef0=0.0, degree=3, epsilon=0.1, gamma='auto',\n",
       "  kernel='linear', max_iter=-1, shrinking=True, tol=0.001, verbose=False)"
      ]
     },
     "execution_count": 90,
     "metadata": {},
     "output_type": "execute_result"
    }
   ],
   "source": [
    "# some simple linear regression here \n",
    "normLinear = svm.SVR(kernel=\"linear\")\n",
    "X=[[0,0], [1,1], [2,2]]\n",
    "y=[3.5,7.5, 11.5]\n",
    "normLinear.fit(X,y)"
   ]
  },
  {
   "cell_type": "code",
   "execution_count": 93,
   "metadata": {},
   "outputs": [
    {
     "data": {
      "text/plain": [
       "array([13.35])"
      ]
     },
     "execution_count": 93,
     "metadata": {},
     "output_type": "execute_result"
    }
   ],
   "source": [
    "normLinear.predict([[2.5,2.5]])"
   ]
  },
  {
   "cell_type": "code",
   "execution_count": 94,
   "metadata": {},
   "outputs": [],
   "source": [
    "import json\n",
    "import requests\n",
    "# testing json and requests here"
   ]
  },
  {
   "cell_type": "code",
   "execution_count": 95,
   "metadata": {},
   "outputs": [],
   "source": [
    "response = requests.get(\"https://jsonplaceholder.typicode.com/todos\")\n"
   ]
  },
  {
   "cell_type": "code",
   "execution_count": 96,
   "metadata": {},
   "outputs": [
    {
     "name": "stdout",
     "output_type": "stream",
     "text": [
      "<Response [200]>\n"
     ]
    }
   ],
   "source": [
    "print(response)"
   ]
  },
  {
   "cell_type": "code",
   "execution_count": 340,
   "metadata": {},
   "outputs": [],
   "source": [
    "#print(\"{} is the text of the response.\".format(response.text))"
   ]
  },
  {
   "cell_type": "code",
   "execution_count": 98,
   "metadata": {},
   "outputs": [],
   "source": [
    "todos = json.loads(response.text)"
   ]
  },
  {
   "cell_type": "code",
   "execution_count": 100,
   "metadata": {},
   "outputs": [
    {
     "name": "stdout",
     "output_type": "stream",
     "text": [
      "hi\n"
     ]
    }
   ],
   "source": [
    "print(\"hi\")"
   ]
  },
  {
   "cell_type": "code",
   "execution_count": 104,
   "metadata": {},
   "outputs": [
    {
     "data": {
      "text/plain": [
       "False"
      ]
     },
     "execution_count": 104,
     "metadata": {},
     "output_type": "execute_result"
    }
   ],
   "source": [
    "todos[0]['completed']\n",
    "# everything is put into dictionaries!"
   ]
  },
  {
   "cell_type": "code",
   "execution_count": 105,
   "metadata": {},
   "outputs": [],
   "source": [
    "x = np.array([[72, 200], [70, 180], [69, 179], [80, 250], [84, 300], [81, 270]])\n",
    "y = np.array([\"Point Guard\", \"Point Guard\", \"Point Guard\", \"Center\", \"Center\", \"Center\"])"
   ]
  },
  {
   "cell_type": "code",
   "execution_count": 106,
   "metadata": {},
   "outputs": [
    {
     "data": {
      "text/plain": [
       "SVC(C=1.0, cache_size=200, class_weight=None, coef0=0.0,\n",
       "  decision_function_shape='ovr', degree=3, gamma='auto', kernel='rbf',\n",
       "  max_iter=-1, probability=False, random_state=None, shrinking=True,\n",
       "  tol=0.001, verbose=False)"
      ]
     },
     "execution_count": 106,
     "metadata": {},
     "output_type": "execute_result"
    }
   ],
   "source": [
    "clf = svm.SVC()\n",
    "clf.fit(x, y) "
   ]
  },
  {
   "cell_type": "code",
   "execution_count": 113,
   "metadata": {},
   "outputs": [
    {
     "data": {
      "text/plain": [
       "array(['Center'], dtype='<U11')"
      ]
     },
     "execution_count": 113,
     "metadata": {},
     "output_type": "execute_result"
    }
   ],
   "source": [
    "clf.predict([[82,190]])"
   ]
  },
  {
   "cell_type": "code",
   "execution_count": 118,
   "metadata": {},
   "outputs": [],
   "source": [
    "newRep = requests.get(\"http://data.nba.net/10s/prod/v1/2018/players.json\")"
   ]
  },
  {
   "cell_type": "raw",
   "metadata": {},
   "source": [
    "print(newRep)"
   ]
  },
  {
   "cell_type": "code",
   "execution_count": 343,
   "metadata": {},
   "outputs": [],
   "source": [
    "\n",
    "# print(newRep.text) ... would have printed out all of the the nba players, uncommenting and run this section to see the results."
   ]
  },
  {
   "cell_type": "code",
   "execution_count": 121,
   "metadata": {},
   "outputs": [],
   "source": [
    "allPlayers = json.loads(newRep.text)"
   ]
  },
  {
   "cell_type": "code",
   "execution_count": 341,
   "metadata": {},
   "outputs": [],
   "source": [
    "#allPlayers"
   ]
  },
  {
   "cell_type": "code",
   "execution_count": 342,
   "metadata": {},
   "outputs": [],
   "source": [
    "#print(allPlayers['league']['standard'])\n",
    "# looking at all of the players"
   ]
  },
  {
   "cell_type": "code",
   "execution_count": 132,
   "metadata": {},
   "outputs": [],
   "source": [
    "# we want to choose between G F and C\n",
    "x = np.array([1,2,3])"
   ]
  },
  {
   "cell_type": "code",
   "execution_count": 140,
   "metadata": {},
   "outputs": [
    {
     "name": "stdout",
     "output_type": "stream",
     "text": [
      "[1 2 3 1 1 1 1]\n",
      "[]\n"
     ]
    }
   ],
   "source": [
    "x = np.append(x,[[1]])\n",
    "print(x)\n",
    "y = np.array([])\n",
    "print(y)\n",
    "\n",
    "\n"
   ]
  },
  {
   "cell_type": "code",
   "execution_count": 339,
   "metadata": {},
   "outputs": [
    {
     "name": "stdout",
     "output_type": "stream",
     "text": [
      "[[190  78]\n",
      " [240  79]\n",
      " [190  74]\n",
      " ...\n",
      " [250  84]\n",
      " [250  83]\n",
      " [240  85]]\n",
      "SVC(C=1.0, cache_size=200, class_weight=None, coef0=0.0,\n",
      "  decision_function_shape='ovr', degree=3, gamma='auto', kernel='rbf',\n",
      "  max_iter=-1, probability=False, random_state=None, shrinking=True,\n",
      "  tol=0.001, verbose=False)\n",
      "SVC(C=1.0, cache_size=200, class_weight=None, coef0=0.0,\n",
      "  decision_function_shape='ovr', degree=3, gamma='auto', kernel='rbf',\n",
      "  max_iter=-1, probability=False, random_state=None, shrinking=True,\n",
      "  tol=0.001, verbose=False)\n",
      "1096\n",
      "548\n"
     ]
    }
   ],
   "source": [
    "playerSize = np.array([[0,0]])\n",
    "playerPosition = np.array([])\n",
    "testing = np.array([])\n",
    "for i in allPlayers['league']['standard']:\n",
    "    skip = False\n",
    "    if(i['weightPounds'] == '' or i['heightFeet']=='' or i['heightInches']==''):\n",
    "        skip = True\n",
    "    if(not skip):\n",
    "        totalHeight = (int(i['heightFeet'])*12) + int(i['heightInches'])\n",
    "        #fullName = i['firstName'] + ' ' + i['lastName']\n",
    "        #print('{} is {} inches tall.'.format(fullName, totalHeight))\n",
    "        #print([int(i['weightPounds']), totalHeight])\n",
    "        arr = np.array([[int(i['weightPounds']), totalHeight]])\n",
    "        xEr = np.array([int(i['weightPounds']), totalHeight])\n",
    "        #print(arr)\n",
    "        #print(i['pos'])\n",
    "        #print(playerSize)\n",
    "        playerSize = np.concatenate((playerSize, arr))\n",
    "        testing = np.append(testing, xEr)\n",
    "        #playerSize = np.append(playerSize, [int(i['weightPounds']), totalHeight])\n",
    "        playerPosition = np.append(playerPosition, i['pos'])\n",
    "\n",
    "#realPlayerSize = playerSize[playerSize!=[0,0]]\n",
    "y = np.expand_dims(playerSize, axis=1)\n",
    "\n",
    "realPlayers = playerSize[1:]\n",
    "print(realPlayers)\n",
    "\n",
    "clf = svm.SVC()\n",
    "\n",
    "clf.fit(realPlayers, playerPosition)\n",
    "#print(clf)\n",
    "print(clf)\n",
    "clf.predict([[260, 82]])\n",
    "clf.score([[260, 82], [250, 80]], ['C', 'C'])\n",
    "#score matches up what the svm thinks the answer is vs. what is actually provided to it\n",
    "import matplotlib.pyplot as plt\n",
    "print(testing.size)\n",
    "print(playerPosition.size)\n",
    "\n",
    "# testing out the functions\n",
    "\n"
   ]
  },
  {
   "cell_type": "code",
   "execution_count": 338,
   "metadata": {},
   "outputs": [
    {
     "name": "stdout",
     "output_type": "stream",
     "text": [
      "What is your weight in pounds? 260\n",
      "What is your height? Enter feet first. 7\n",
      "What is your height? Now enter inches. 1\n",
      "Based on the Stats of ALL of the NBA Players, and your height and weight, you should be a Center.\n"
     ]
    }
   ],
   "source": [
    "# final version\n",
    "\n",
    "import json\n",
    "import requests\n",
    "\n",
    "import pandas as pd\n",
    "import numpy as np\n",
    "\n",
    "\n",
    "# Matthew Strong CU Boulder\n",
    "# July 21 2018\n",
    "# NBA Data API used \n",
    "# uses SVC machine learning to predict the best position for a person who wants to see if they have 'NBA' level height and weight\n",
    "# indeed the average height of a man would be very low for this function\n",
    "\n",
    "\n",
    "def predictPosition():\n",
    "    \n",
    "    newRep = requests.get(\"http://data.nba.net/10s/prod/v1/2018/players.json\")\n",
    "    allPlayers = json.loads(newRep.text)\n",
    "    # loading all of the players into python dictionary with the data nba api\n",
    "    playerSize = np.array([[0,0]])\n",
    "    # setting the numpu arrays\n",
    "    playerPosition = np.array([])\n",
    "    for i in allPlayers['league']['standard']:\n",
    "        skip = False\n",
    "        if(i['weightPounds'] == '' or i['heightFeet']=='' or i['heightInches']==''):\n",
    "            skip = True\n",
    "            # if a weight or height aspect of the player is visibly missing, skip the player\n",
    "        if(not skip):\n",
    "            # calculates total height\n",
    "            totalHeight = (int(i['heightFeet'])*12) + int(i['heightInches'])\n",
    "            #fullName = i['firstName'] + ' ' + i['lastName']\n",
    "            #print('{} is {} inches tall.'.format(fullName, totalHeight))\n",
    "            #print([int(i['weightPounds']), totalHeight])\n",
    "            \n",
    "            # array of the weight and full height\n",
    "            arr = np.array([[int(i['weightPounds']), totalHeight]])\n",
    "            #print(arr)\n",
    "            #print(playerSize)\n",
    "            # adding the height and weight duo to the np array of every player\n",
    "            playerSize = np.concatenate((playerSize, arr))\n",
    "            #playerSize = np.append(playerSize, [int(i['weightPounds']), totalHeight])\n",
    "            \n",
    "            #adding player position here to array -\n",
    "            # options are center, forward, or guard or combo of any two except guard-center\n",
    "            playerPosition = np.append(playerPosition, i['pos'])   \n",
    "    # getting rid of the [0,0] placeholder\n",
    "    realPlayers = playerSize[1:]\n",
    "    #print(realPlayers)\n",
    "    clf = svm.SVC()\n",
    "    # new instance of svc\n",
    "    # fit array of player's weight/heights to their corresponding position\n",
    "    clf.fit(realPlayers, playerPosition)         \n",
    "    weight = 0\n",
    "    heightFeet = 0\n",
    "    heightInches = 0\n",
    "    # the next few while loops will get the user's height and weight and will check for failure to convert to int\n",
    "    # e.g. the user types in 'swol' for weight\n",
    "    while(1):\n",
    "        weight = input(\"What is your weight in pounds? \")\n",
    "        try:\n",
    "            weight = int(weight)\n",
    "            break\n",
    "        except ValueError:\n",
    "            print(\"Please enter in a number! \")\n",
    "    while(1):\n",
    "        heightFeet = input(\"What is your height? Enter feet first. \")\n",
    "        try:\n",
    "            heightFeet = int(heightFeet)\n",
    "            \n",
    "            break\n",
    "        except ValueError:\n",
    "            print(\"Please enter in a number! \")\n",
    "    while(1):\n",
    "        heightInches = input(\"What is your height? Now enter inches. \")\n",
    "        try:\n",
    "            heightInches = int(heightInches)\n",
    "            break\n",
    "        except ValueError:\n",
    "            print(\"Please enter in a number!\")\n",
    "    totalHeight = (heightFeet*12) + heightInches\n",
    "    # predicts the user's classification based on weight and height and reads the position referencing a dictionary\n",
    "    rest = clf.predict([[weight, totalHeight]])\n",
    "    #print(rest[0])\n",
    "    myDict = {'F':\"Forward\", 'G':'Guard', 'C':\"Center\", 'G-F':\"Primary Guard and Secondary Forward\", 'F-G':\"Primary Forward and Secondary Guard\", 'F-C':\"Primary Forward and Secondary Center\", 'C-F':\"Primary Center and Secondary Forward\"}\n",
    "    selection = myDict[rest[0]]\n",
    "    print(\"Based on the Stats of ALL of the NBA Players, and your height and weight, you should be a {}.\".format(selection))\n",
    "    #print(\"{} is the weight\".format(weight))\n",
    "    #print(\"{} is the height in feet\".format(heightFeet))\n",
    "    #print(\"{} is the height in inches\".format(heightInches))\n",
    "# press shift+enter to run this section of code as well as the function\n",
    "\n",
    "predictPosition()\n"
   ]
  },
  {
   "cell_type": "code",
   "execution_count": 363,
   "metadata": {},
   "outputs": [
    {
     "name": "stdout",
     "output_type": "stream",
     "text": [
      "(2, 3)\n",
      "bike is the second option, and run is the first option\n"
     ]
    }
   ],
   "source": [
    "x = np.array([[\"run\", \"bike\", \"swim\"], [\"sit\", \"watch\", \"lie\"]])\n",
    "print(x.shape)\n",
    "print(\"{1} is the second option, and {0} is the first option\".format(\"run\", \"bike\"))\n",
    "# testing strings"
   ]
  },
  {
   "cell_type": "code",
   "execution_count": null,
   "metadata": {},
   "outputs": [],
   "source": [
    "import json\n",
    "import requests\n",
    "\n",
    "\n",
    "\n"
   ]
  },
  {
   "cell_type": "code",
   "execution_count": 415,
   "metadata": {},
   "outputs": [
    {
     "ename": "ValueError",
     "evalue": "all the input array dimensions except for the concatenation axis must match exactly",
     "output_type": "error",
     "traceback": [
      "\u001b[1;31m---------------------------------------------------------------------------\u001b[0m",
      "\u001b[1;31mValueError\u001b[0m                                Traceback (most recent call last)",
      "\u001b[1;32m<ipython-input-415-52eacedae9e7>\u001b[0m in \u001b[0;36m<module>\u001b[1;34m()\u001b[0m\n\u001b[0;32m      1\u001b[0m \u001b[0mx\u001b[0m \u001b[1;33m=\u001b[0m \u001b[0mnp\u001b[0m\u001b[1;33m.\u001b[0m\u001b[0marray\u001b[0m\u001b[1;33m(\u001b[0m\u001b[1;33m[\u001b[0m\u001b[1;33m[\u001b[0m\u001b[1;33m]\u001b[0m\u001b[1;33m]\u001b[0m\u001b[1;33m)\u001b[0m\u001b[1;33m\u001b[0m\u001b[0m\n\u001b[0;32m      2\u001b[0m \u001b[0mb\u001b[0m \u001b[1;33m=\u001b[0m \u001b[0mnp\u001b[0m\u001b[1;33m.\u001b[0m\u001b[0marray\u001b[0m\u001b[1;33m(\u001b[0m\u001b[1;33m[\u001b[0m\u001b[1;33m[\u001b[0m\u001b[1;36m4\u001b[0m\u001b[1;33m,\u001b[0m \u001b[1;36m4\u001b[0m\u001b[1;33m]\u001b[0m\u001b[1;33m]\u001b[0m\u001b[1;33m)\u001b[0m\u001b[1;33m\u001b[0m\u001b[0m\n\u001b[1;32m----> 3\u001b[1;33m \u001b[0mx\u001b[0m \u001b[1;33m=\u001b[0m \u001b[0mnp\u001b[0m\u001b[1;33m.\u001b[0m\u001b[0mconcatenate\u001b[0m\u001b[1;33m(\u001b[0m\u001b[1;33m(\u001b[0m\u001b[0mx\u001b[0m\u001b[1;33m,\u001b[0m \u001b[0mb\u001b[0m\u001b[1;33m)\u001b[0m\u001b[1;33m)\u001b[0m\u001b[1;33m\u001b[0m\u001b[0m\n\u001b[0m\u001b[0;32m      4\u001b[0m \u001b[0mprint\u001b[0m\u001b[1;33m(\u001b[0m\u001b[0mx\u001b[0m\u001b[1;33m)\u001b[0m\u001b[1;33m\u001b[0m\u001b[0m\n\u001b[0;32m      5\u001b[0m \u001b[0mlisto\u001b[0m\u001b[1;33m\u001b[0m\u001b[0m\n",
      "\u001b[1;31mValueError\u001b[0m: all the input array dimensions except for the concatenation axis must match exactly"
     ]
    }
   ],
   "source": [
    "x = np.array([[1, 2]])\n",
    "b = np.array([[4, 4]])\n",
    "x = np.concatenate((x, b))\n",
    "print(x)\n",
    "listo \n",
    "years = ['2011', '2012', '2013', '2014', '2015', '2016', '2017']\n",
    "\n",
    "\n",
    "#url = \"http://data.nba.net/json/cms/\" + str\n",
    "\n",
    "\n",
    "# time to show that the west is best\n",
    "newRep = requests.get(\"http://data.nba.net/json/cms/2013/standings/division.json\")\n",
    "# gets all of the divisions from 2013 and will take a look at the team's record..\n",
    "standings = json.loads(newRep.text)\n",
    "divisions = standings['sports_content']['standings']['conferences']\n",
    "# connection here takes too long... why?\n",
    "arr = []\n",
    "\n",
    "for i in divisions:\n",
    "    \n",
    "    \n",
    "for region in arr:\n",
    "    print(divisions[region]['divisions'])"
   ]
  },
  {
   "cell_type": "code",
   "execution_count": 449,
   "metadata": {},
   "outputs": [
    {
     "name": "stdout",
     "output_type": "stream",
     "text": [
      "This is hard to watch\n"
     ]
    }
   ],
   "source": [
    "print(\"This is hard to watch\")\n",
    "newRep = requests.get(\"http://data.nba.net/json/cms/2014/standings/division.json\")"
   ]
  },
  {
   "cell_type": "code",
   "execution_count": null,
   "metadata": {},
   "outputs": [],
   "source": [
    "print(\"hello\")\n",
    "x = \"http://data.nba.net/json/cms/\" + \"2014\" + \"/standings/division.json\"\n",
    "print(x)"
   ]
  },
  {
   "cell_type": "code",
   "execution_count": 15,
   "metadata": {},
   "outputs": [
    {
     "name": "stdout",
     "output_type": "stream",
     "text": [
      "2011\n",
      "http://data.nba.net/json/cms/2011/standings/division.json\n",
      "Atlantic\n",
      "Boston Celtics had a record of 39-27 with percentage of 0.5909.\n",
      "New York Knicks had a record of 36-30 with percentage of 0.5455.\n",
      "Philadelphia 76ers had a record of 35-31 with percentage of 0.5303.\n",
      "Toronto Raptors had a record of 23-43 with percentage of 0.3485.\n",
      "New Jersey Nets had a record of 22-44 with percentage of 0.3333.\n",
      "Central\n",
      "Chicago Bulls had a record of 50-16 with percentage of 0.7576.\n",
      "Indiana Pacers had a record of 42-24 with percentage of 0.6364.\n",
      "Milwaukee Bucks had a record of 31-35 with percentage of 0.4697.\n",
      "Detroit Pistons had a record of 25-41 with percentage of 0.3788.\n",
      "Cleveland Cavaliers had a record of 21-45 with percentage of 0.3182.\n",
      "Southeast\n",
      "Miami Heat had a record of 46-20 with percentage of 0.697.\n",
      "Atlanta Hawks had a record of 40-26 with percentage of 0.6061.\n",
      "Orlando Magic had a record of 37-29 with percentage of 0.5606.\n",
      "Washington Wizards had a record of 20-46 with percentage of 0.303.\n",
      "Charlotte Bobcats had a record of 7-59 with percentage of 0.1061.\n",
      "Northwest\n",
      "Oklahoma City Thunder had a record of 47-19 with percentage of 0.7121.\n",
      "Denver Nuggets had a record of 38-28 with percentage of 0.5758.\n",
      "Utah Jazz had a record of 36-30 with percentage of 0.5455.\n",
      "Portland Trail Blazers had a record of 28-38 with percentage of 0.4242.\n",
      "Minnesota Timberwolves had a record of 26-40 with percentage of 0.3939.\n",
      "Pacific\n",
      "L.A. Lakers Lakers had a record of 41-25 with percentage of 0.6212.\n",
      "L.A. Clippers Clippers had a record of 40-26 with percentage of 0.6061.\n",
      "Phoenix Suns had a record of 33-33 with percentage of 0.5.\n",
      "Golden State Warriors had a record of 23-43 with percentage of 0.3485.\n",
      "Sacramento Kings had a record of 22-44 with percentage of 0.3333.\n",
      "Southwest\n",
      "San Antonio Spurs had a record of 50-16 with percentage of 0.7576.\n",
      "Memphis Grizzlies had a record of 41-25 with percentage of 0.6212.\n",
      "Dallas Mavericks had a record of 36-30 with percentage of 0.5455.\n",
      "Houston Rockets had a record of 34-32 with percentage of 0.5152.\n",
      "New Orleans Hornets had a record of 21-45 with percentage of 0.3182.\n",
      "2013\n",
      "http://data.nba.net/json/cms/2013/standings/division.json\n",
      "Atlantic\n",
      "Toronto Raptors had a record of 48-34 with percentage of 0.5854.\n",
      "Brooklyn Nets had a record of 44-38 with percentage of 0.5366.\n",
      "New York Knicks had a record of 37-45 with percentage of 0.4512.\n",
      "Boston Celtics had a record of 25-57 with percentage of 0.3049.\n",
      "Philadelphia 76ers had a record of 19-63 with percentage of 0.2317.\n",
      "Central\n",
      "Indiana Pacers had a record of 56-26 with percentage of 0.6829.\n",
      "Chicago Bulls had a record of 48-34 with percentage of 0.5854.\n",
      "Cleveland Cavaliers had a record of 33-49 with percentage of 0.4024.\n",
      "Detroit Pistons had a record of 29-53 with percentage of 0.3537.\n",
      "Milwaukee Bucks had a record of 15-67 with percentage of 0.1829.\n",
      "Southeast\n",
      "Miami Heat had a record of 54-28 with percentage of 0.6585.\n",
      "Washington Wizards had a record of 44-38 with percentage of 0.5366.\n",
      "Charlotte Hornets had a record of 43-39 with percentage of 0.5244.\n",
      "Atlanta Hawks had a record of 38-44 with percentage of 0.4634.\n",
      "Orlando Magic had a record of 23-59 with percentage of 0.2805.\n",
      "Northwest\n",
      "Oklahoma City Thunder had a record of 59-23 with percentage of 0.7195.\n",
      "Portland Trail Blazers had a record of 54-28 with percentage of 0.6585.\n",
      "Minnesota Timberwolves had a record of 40-42 with percentage of 0.4878.\n",
      "Denver Nuggets had a record of 36-46 with percentage of 0.439.\n",
      "Utah Jazz had a record of 25-57 with percentage of 0.3049.\n",
      "Pacific\n",
      "L.A. Clippers Clippers had a record of 57-25 with percentage of 0.6951.\n",
      "Golden State Warriors had a record of 51-31 with percentage of 0.622.\n",
      "Phoenix Suns had a record of 48-34 with percentage of 0.5854.\n",
      "Sacramento Kings had a record of 28-54 with percentage of 0.3415.\n",
      "L.A. Lakers Lakers had a record of 27-55 with percentage of 0.3293.\n",
      "Southwest\n",
      "San Antonio Spurs had a record of 62-20 with percentage of 0.7561.\n",
      "Houston Rockets had a record of 54-28 with percentage of 0.6585.\n",
      "Memphis Grizzlies had a record of 50-32 with percentage of 0.6098.\n",
      "Dallas Mavericks had a record of 49-33 with percentage of 0.5976.\n",
      "New Orleans Pelicans had a record of 34-48 with percentage of 0.4146.\n",
      "2014\n",
      "http://data.nba.net/json/cms/2014/standings/division.json\n",
      "Atlantic\n",
      "Toronto Raptors had a record of 49-33 with percentage of 0.5976.\n",
      "Boston Celtics had a record of 40-42 with percentage of 0.4878.\n",
      "Brooklyn Nets had a record of 38-44 with percentage of 0.4634.\n",
      "Philadelphia 76ers had a record of 18-64 with percentage of 0.2195.\n",
      "New York Knicks had a record of 17-65 with percentage of 0.2073.\n",
      "Central\n",
      "Cleveland Cavaliers had a record of 53-29 with percentage of 0.6463.\n",
      "Chicago Bulls had a record of 50-32 with percentage of 0.6098.\n",
      "Milwaukee Bucks had a record of 41-41 with percentage of 0.5.\n",
      "Indiana Pacers had a record of 38-44 with percentage of 0.4634.\n",
      "Detroit Pistons had a record of 32-50 with percentage of 0.3902.\n",
      "Southeast\n",
      "Atlanta Hawks had a record of 60-22 with percentage of 0.7317.\n",
      "Washington Wizards had a record of 46-36 with percentage of 0.561.\n",
      "Miami Heat had a record of 37-45 with percentage of 0.4512.\n",
      "Charlotte Hornets had a record of 33-49 with percentage of 0.4024.\n",
      "Orlando Magic had a record of 25-57 with percentage of 0.3049.\n",
      "Northwest\n",
      "Portland Trail Blazers had a record of 51-31 with percentage of 0.622.\n",
      "Oklahoma City Thunder had a record of 45-37 with percentage of 0.5488.\n",
      "Utah Jazz had a record of 38-44 with percentage of 0.4634.\n",
      "Denver Nuggets had a record of 30-52 with percentage of 0.3659.\n",
      "Minnesota Timberwolves had a record of 16-66 with percentage of 0.1951.\n",
      "Pacific\n",
      "Golden State Warriors had a record of 67-15 with percentage of 0.8171.\n",
      "L.A. Clippers Clippers had a record of 56-26 with percentage of 0.6829.\n",
      "Phoenix Suns had a record of 39-43 with percentage of 0.4756.\n",
      "Sacramento Kings had a record of 29-53 with percentage of 0.3537.\n",
      "L.A. Lakers Lakers had a record of 21-61 with percentage of 0.2561.\n",
      "Southwest\n",
      "Houston Rockets had a record of 56-26 with percentage of 0.6829.\n",
      "Memphis Grizzlies had a record of 55-27 with percentage of 0.6707.\n",
      "San Antonio Spurs had a record of 55-27 with percentage of 0.6707.\n",
      "Dallas Mavericks had a record of 50-32 with percentage of 0.6098.\n",
      "New Orleans Pelicans had a record of 45-37 with percentage of 0.5488.\n",
      "2015\n",
      "http://data.nba.net/json/cms/2015/standings/division.json\n",
      "Atlantic\n",
      "Toronto Raptors had a record of 56-26 with percentage of 0.6829.\n",
      "Boston Celtics had a record of 48-34 with percentage of 0.5854.\n",
      "New York Knicks had a record of 32-50 with percentage of 0.3902.\n",
      "Brooklyn Nets had a record of 21-61 with percentage of 0.2561.\n",
      "Philadelphia 76ers had a record of 10-72 with percentage of 0.122.\n",
      "Central\n",
      "Cleveland Cavaliers had a record of 57-25 with percentage of 0.6951.\n",
      "Indiana Pacers had a record of 45-37 with percentage of 0.5488.\n",
      "Detroit Pistons had a record of 44-38 with percentage of 0.5366.\n",
      "Chicago Bulls had a record of 42-40 with percentage of 0.5122.\n",
      "Milwaukee Bucks had a record of 33-49 with percentage of 0.4024.\n",
      "Southeast\n",
      "Miami Heat had a record of 48-34 with percentage of 0.5854.\n",
      "Atlanta Hawks had a record of 48-34 with percentage of 0.5854.\n",
      "Charlotte Hornets had a record of 48-34 with percentage of 0.5854.\n",
      "Washington Wizards had a record of 41-41 with percentage of 0.5.\n",
      "Orlando Magic had a record of 35-47 with percentage of 0.4268.\n",
      "Northwest\n",
      "Oklahoma City Thunder had a record of 55-27 with percentage of 0.6707.\n",
      "Portland Trail Blazers had a record of 44-38 with percentage of 0.5366.\n",
      "Utah Jazz had a record of 40-42 with percentage of 0.4878.\n",
      "Denver Nuggets had a record of 33-49 with percentage of 0.4024.\n",
      "Minnesota Timberwolves had a record of 29-53 with percentage of 0.3537.\n",
      "Pacific\n",
      "Golden State Warriors had a record of 73-9 with percentage of 0.8902.\n",
      "L.A. Clippers Clippers had a record of 53-29 with percentage of 0.6463.\n",
      "Sacramento Kings had a record of 33-49 with percentage of 0.4024.\n",
      "Phoenix Suns had a record of 23-59 with percentage of 0.2805.\n",
      "L.A. Lakers Lakers had a record of 17-65 with percentage of 0.2073.\n",
      "Southwest\n",
      "San Antonio Spurs had a record of 67-15 with percentage of 0.8171.\n",
      "Dallas Mavericks had a record of 42-40 with percentage of 0.5122.\n",
      "Memphis Grizzlies had a record of 42-40 with percentage of 0.5122.\n",
      "Houston Rockets had a record of 41-41 with percentage of 0.5.\n",
      "New Orleans Pelicans had a record of 30-52 with percentage of 0.3659.\n",
      "2016\n",
      "http://data.nba.net/json/cms/2016/standings/division.json\n"
     ]
    },
    {
     "name": "stdout",
     "output_type": "stream",
     "text": [
      "Atlantic\n",
      "Boston Celtics had a record of 53-29 with percentage of 0.6463.\n",
      "Toronto Raptors had a record of 51-31 with percentage of 0.622.\n",
      "New York Knicks had a record of 31-51 with percentage of 0.378.\n",
      "Philadelphia 76ers had a record of 28-54 with percentage of 0.3415.\n",
      "Brooklyn Nets had a record of 20-62 with percentage of 0.2439.\n",
      "Central\n",
      "Cleveland Cavaliers had a record of 51-31 with percentage of 0.622.\n",
      "Milwaukee Bucks had a record of 42-40 with percentage of 0.5122.\n",
      "Indiana Pacers had a record of 42-40 with percentage of 0.5122.\n",
      "Chicago Bulls had a record of 41-41 with percentage of 0.5.\n",
      "Detroit Pistons had a record of 37-45 with percentage of 0.4512.\n",
      "Southeast\n",
      "Washington Wizards had a record of 49-33 with percentage of 0.5976.\n",
      "Atlanta Hawks had a record of 43-39 with percentage of 0.5244.\n",
      "Miami Heat had a record of 41-41 with percentage of 0.5.\n",
      "Charlotte Hornets had a record of 36-46 with percentage of 0.439.\n",
      "Orlando Magic had a record of 29-53 with percentage of 0.3537.\n",
      "Northwest\n",
      "Utah Jazz had a record of 51-31 with percentage of 0.622.\n",
      "Oklahoma City Thunder had a record of 47-35 with percentage of 0.5732.\n",
      "Portland Trail Blazers had a record of 41-41 with percentage of 0.5.\n",
      "Denver Nuggets had a record of 40-42 with percentage of 0.4878.\n",
      "Minnesota Timberwolves had a record of 31-51 with percentage of 0.378.\n",
      "Pacific\n",
      "Golden State Warriors had a record of 67-15 with percentage of 0.8171.\n",
      "LA Clippers Clippers had a record of 51-31 with percentage of 0.622.\n",
      "Sacramento Kings had a record of 32-50 with percentage of 0.3902.\n",
      "L.A. Lakers Lakers had a record of 26-56 with percentage of 0.3171.\n",
      "Phoenix Suns had a record of 24-58 with percentage of 0.2927.\n",
      "Southwest\n",
      "San Antonio Spurs had a record of 61-21 with percentage of 0.7439.\n",
      "Houston Rockets had a record of 55-27 with percentage of 0.6707.\n",
      "Memphis Grizzlies had a record of 43-39 with percentage of 0.5244.\n",
      "New Orleans Pelicans had a record of 34-48 with percentage of 0.4146.\n",
      "Dallas Mavericks had a record of 33-49 with percentage of 0.4024.\n",
      "2017\n",
      "http://data.nba.net/json/cms/2017/standings/division.json\n",
      "Atlantic\n",
      "Toronto Raptors had a record of 59-23 with percentage of 0.7195.\n",
      "Boston Celtics had a record of 55-27 with percentage of 0.6707.\n",
      "Philadelphia 76ers had a record of 52-30 with percentage of 0.6341.\n",
      "New York Knicks had a record of 29-53 with percentage of 0.3537.\n",
      "Brooklyn Nets had a record of 28-54 with percentage of 0.3415.\n",
      "Central\n",
      "Cleveland Cavaliers had a record of 50-32 with percentage of 0.6098.\n",
      "Indiana Pacers had a record of 48-34 with percentage of 0.5854.\n",
      "Milwaukee Bucks had a record of 44-38 with percentage of 0.5366.\n",
      "Detroit Pistons had a record of 39-43 with percentage of 0.4756.\n",
      "Chicago Bulls had a record of 27-55 with percentage of 0.3293.\n",
      "Southeast\n",
      "Miami Heat had a record of 44-38 with percentage of 0.5366.\n",
      "Washington Wizards had a record of 43-39 with percentage of 0.5244.\n",
      "Charlotte Hornets had a record of 36-46 with percentage of 0.439.\n",
      "Orlando Magic had a record of 25-57 with percentage of 0.3049.\n",
      "Atlanta Hawks had a record of 24-58 with percentage of 0.2927.\n",
      "Northwest\n",
      "Portland Trail Blazers had a record of 49-33 with percentage of 0.5976.\n",
      "Oklahoma City Thunder had a record of 48-34 with percentage of 0.5854.\n",
      "Utah Jazz had a record of 48-34 with percentage of 0.5854.\n",
      "Minnesota Timberwolves had a record of 47-35 with percentage of 0.5732.\n",
      "Denver Nuggets had a record of 46-36 with percentage of 0.561.\n",
      "Pacific\n",
      "Golden State Warriors had a record of 58-24 with percentage of 0.7073.\n",
      "LA Clippers Clippers had a record of 42-40 with percentage of 0.5122.\n",
      "L.A. Lakers Lakers had a record of 35-47 with percentage of 0.4268.\n",
      "Sacramento Kings had a record of 27-55 with percentage of 0.3293.\n",
      "Phoenix Suns had a record of 21-61 with percentage of 0.2561.\n",
      "Southwest\n",
      "Houston Rockets had a record of 65-17 with percentage of 0.7927.\n",
      "New Orleans Pelicans had a record of 48-34 with percentage of 0.5854.\n",
      "San Antonio Spurs had a record of 47-35 with percentage of 0.5732.\n",
      "Dallas Mavericks had a record of 24-58 with percentage of 0.2927.\n",
      "Memphis Grizzlies had a record of 22-60 with percentage of 0.2683.\n",
      "[[1 1 0 0 1]\n",
      " [1 0 0 0 1]\n",
      " [1 0 0 0 1]\n",
      " [0 0 0 0 1]\n",
      " [0 0 0 0 1]\n",
      " [1 1 1 0 2]\n",
      " [1 0 0 0 2]\n",
      " [0 0 0 0 2]\n",
      " [0 0 0 0 2]\n",
      " [0 0 0 0 2]\n",
      " [1 1 0 0 3]\n",
      " [1 0 0 0 3]\n",
      " [1 0 0 0 3]\n",
      " [0 0 0 0 3]\n",
      " [0 0 0 0 3]\n",
      " [1 1 0 1 4]\n",
      " [1 0 0 1 4]\n",
      " [1 0 0 1 4]\n",
      " [0 0 0 1 4]\n",
      " [0 0 0 1 4]\n",
      " [1 1 0 1 5]\n",
      " [1 0 0 1 5]\n",
      " [0 0 0 1 5]\n",
      " [0 0 0 1 5]\n",
      " [0 0 0 1 5]\n",
      " [1 1 1 1 6]\n",
      " [1 0 0 1 6]\n",
      " [1 0 0 1 6]\n",
      " [0 0 0 1 6]\n",
      " [0 0 0 1 6]\n",
      " [1 1 0 0 1]\n",
      " [1 0 0 0 1]\n",
      " [0 0 0 0 1]\n",
      " [0 0 0 0 1]\n",
      " [0 0 0 0 1]\n",
      " [1 1 1 0 2]\n",
      " [1 0 0 0 2]\n",
      " [0 0 0 0 2]\n",
      " [0 0 0 0 2]\n",
      " [0 0 0 0 2]\n",
      " [1 1 0 0 3]\n",
      " [1 0 0 0 3]\n",
      " [1 0 0 0 3]\n",
      " [1 0 0 0 3]\n",
      " [0 0 0 0 3]\n",
      " [1 1 0 1 4]\n",
      " [1 0 0 1 4]\n",
      " [0 0 0 1 4]\n",
      " [0 0 0 1 4]\n",
      " [0 0 0 1 4]\n",
      " [1 1 0 1 5]\n",
      " [1 0 0 1 5]\n",
      " [0 0 0 1 5]\n",
      " [0 0 0 1 5]\n",
      " [0 0 0 1 5]\n",
      " [1 1 1 1 6]\n",
      " [1 0 0 1 6]\n",
      " [1 0 0 1 6]\n",
      " [1 0 0 1 6]\n",
      " [0 0 0 1 6]\n",
      " [1 1 0 0 1]\n",
      " [1 0 0 0 1]\n",
      " [1 0 0 0 1]\n",
      " [0 0 0 0 1]\n",
      " [0 0 0 0 1]\n",
      " [1 1 0 0 2]\n",
      " [1 0 0 0 2]\n",
      " [1 0 0 0 2]\n",
      " [0 0 0 0 2]\n",
      " [0 0 0 0 2]\n",
      " [1 1 1 0 3]\n",
      " [1 0 0 0 3]\n",
      " [0 0 0 0 3]\n",
      " [0 0 0 0 3]\n",
      " [0 0 0 0 3]\n",
      " [1 1 0 1 4]\n",
      " [0 0 0 1 4]\n",
      " [0 0 0 1 4]\n",
      " [0 0 0 1 4]\n",
      " [0 0 0 1 4]\n",
      " [1 1 1 1 5]\n",
      " [1 0 0 1 5]\n",
      " [0 0 0 1 5]\n",
      " [0 0 0 1 5]\n",
      " [0 0 0 1 5]\n",
      " [1 1 0 1 6]\n",
      " [1 0 0 1 6]\n",
      " [1 0 0 1 6]\n",
      " [1 0 0 1 6]\n",
      " [1 0 0 1 6]\n",
      " [1 1 0 0 1]\n",
      " [1 0 0 0 1]\n",
      " [0 0 0 0 1]\n",
      " [0 0 0 0 1]\n",
      " [0 0 0 0 1]\n",
      " [1 1 1 0 2]\n",
      " [1 0 0 0 2]\n",
      " [1 0 0 0 2]\n",
      " [0 0 0 0 2]\n",
      " [0 0 0 0 2]\n",
      " [1 1 0 0 3]\n",
      " [1 0 0 0 3]\n",
      " [1 0 0 0 3]\n",
      " [0 0 0 0 3]\n",
      " [0 0 0 0 3]\n",
      " [1 1 0 1 4]\n",
      " [1 0 0 1 4]\n",
      " [0 0 0 1 4]\n",
      " [0 0 0 1 4]\n",
      " [0 0 0 1 4]\n",
      " [1 1 1 1 5]\n",
      " [1 0 0 1 5]\n",
      " [0 0 0 1 5]\n",
      " [0 0 0 1 5]\n",
      " [0 0 0 1 5]\n",
      " [1 1 0 1 6]\n",
      " [1 0 0 1 6]\n",
      " [1 0 0 1 6]\n",
      " [1 0 0 1 6]\n",
      " [0 0 0 1 6]\n",
      " [1 1 1 0 1]\n",
      " [1 0 0 0 1]\n",
      " [0 0 0 0 1]\n",
      " [0 0 0 0 1]\n",
      " [0 0 0 0 1]\n",
      " [1 1 0 0 2]\n",
      " [1 0 0 0 2]\n",
      " [1 0 0 0 2]\n",
      " [1 0 0 0 2]\n",
      " [0 0 0 0 2]\n",
      " [1 1 0 0 3]\n",
      " [1 0 0 0 3]\n",
      " [0 0 0 0 3]\n",
      " [0 0 0 0 3]\n",
      " [0 0 0 0 3]\n",
      " [1 1 0 1 4]\n",
      " [1 0 0 1 4]\n",
      " [1 0 0 1 4]\n",
      " [0 0 0 1 4]\n",
      " [0 0 0 1 4]\n",
      " [1 1 1 1 5]\n",
      " [1 0 0 1 5]\n",
      " [0 0 0 1 5]\n",
      " [0 0 0 1 5]\n",
      " [0 0 0 1 5]\n",
      " [1 1 0 1 6]\n",
      " [1 0 0 1 6]\n",
      " [1 0 0 1 6]\n",
      " [0 0 0 1 6]\n",
      " [0 0 0 1 6]\n",
      " [1 1 1 0 1]\n",
      " [1 0 0 0 1]\n",
      " [1 0 0 0 1]\n",
      " [0 0 0 0 1]\n",
      " [0 0 0 0 1]\n",
      " [1 1 0 0 2]\n",
      " [1 0 0 0 2]\n",
      " [1 0 0 0 2]\n",
      " [0 0 0 0 2]\n",
      " [0 0 0 0 2]\n",
      " [1 1 0 0 3]\n",
      " [1 0 0 0 3]\n",
      " [0 0 0 0 3]\n",
      " [0 0 0 0 3]\n",
      " [0 0 0 0 3]\n",
      " [1 1 0 1 4]\n",
      " [1 0 0 1 4]\n",
      " [1 0 0 1 4]\n",
      " [1 0 0 1 4]\n",
      " [0 0 0 1 4]\n",
      " [1 1 0 1 5]\n",
      " [0 0 0 1 5]\n",
      " [0 0 0 1 5]\n",
      " [0 0 0 1 5]\n",
      " [0 0 0 1 5]\n",
      " [1 1 1 1 6]\n",
      " [1 0 0 1 6]\n",
      " [1 0 0 1 6]\n",
      " [0 0 0 1 6]\n",
      " [0 0 0 1 6]]\n",
      "Choose a Conference: West or East. west\n",
      "Northwest\n",
      "Pacific\n",
      "Southwest\n",
      "Type the West division: pacific\n",
      "Do you want the team in the NBA playoffs? yes\n",
      "Do you want the team at the top of their division? yes\n",
      "Do you want the team at the top of the conference? no\n",
      "Based on these conditions, this good playoff team is expected to have a record of 60-22. \n"
     ]
    }
   ],
   "source": [
    "import math\n",
    "import json\n",
    "import requests\n",
    "import numpy as np\n",
    "\n",
    "def nbaAnalysis():\n",
    "    # run years from 2011 - 2017\n",
    "    yearArray = ['2011', '2013', '2014', '2015', '2016', '2017']\n",
    "    \n",
    "    playoffStats = np.array([[1, 1, 1, 1, 1]])\n",
    "    winAmount = np.array([])\n",
    "    \n",
    "    \n",
    "    confDict = {'East':0, 'West':1}\n",
    "    # in the code for the user we cannot have 'west' and 'central' here\n",
    "    divDict = {'Atlantic':1, 'Central':2, 'Southeast':3, 'Northwest':4, 'Pacific':5, 'Southwest':6}\n",
    "    \n",
    "    \n",
    "    for year in yearArray:\n",
    "        url = \"http://data.nba.net/json/cms/\" + year + \"/standings/division.json\"\n",
    "        print(year)\n",
    "        print(url)\n",
    "        newRep = requests.get(url)\n",
    "        standings = json.loads(newRep.text)\n",
    "        divisions = standings['sports_content']['standings']['conferences']\n",
    "        for i in divisions:\n",
    "            for name in divisions[i]['divisions']:\n",
    "                # specifies each division      \n",
    "                print(name)\n",
    "                for z in (divisions[i]['divisions'][name]['team']):\n",
    "                        #print(z)\n",
    "                        teamName = z['name'] + ' ' + z['nickname']\n",
    "                        tWins = int(z['team_stats']['wins'])\n",
    "                        tLosses = int(z['team_stats']['losses'])\n",
    "                        ratio = tWins/(tWins + tLosses)\n",
    "                        winPercent  = (round(ratio,4))\n",
    "                        print(\"{} had a record of {}-{} with percentage of {}.\".format(teamName, tWins, tLosses, winPercent))\n",
    "                        inPlayoffs = (int(z['team_stats']['clinched_playoffs']))\n",
    "                        bestDivision = (int(z['team_stats']['clinched_division']))\n",
    "                        topConference = (int(z['team_stats']['clinched_conference']))\n",
    "                        teamNumpy = np.array([[inPlayoffs, bestDivision, topConference, int(confDict[i]), int(divDict[name])]])\n",
    "                        #print(teamNumpy)\n",
    "                        winAmount = np.append(winAmount, winPercent)\n",
    "                        #print(winAmount)\n",
    "                        playoffStats = np.concatenate((playoffStats, teamNumpy))\n",
    "\n",
    "\n",
    "    actualPlayoffStats = playoffStats[1:]\n",
    "    print(actualPlayoffStats)\n",
    "    nbaClient = svm.SVR(C=0.77)\n",
    "    nbaClient.fit(actualPlayoffStats, winAmount)\n",
    "    lowerConfDict = {'east':0, 'west':1}\n",
    "    # in the code for the user we cannot have 'west' and 'central' here\n",
    "    lowerDivDict = {'atlantic':1, 'central':2, 'southeast':3, 'northwest':4, 'pacific':5, 'southwest':6}\n",
    "    inputvalues = [[]]\n",
    "    west = ['northwest', 'pacific', 'southwest']\n",
    "    east = ['atlantic', 'central', 'southeast']\n",
    "    isWest = False\n",
    "    while(1):\n",
    "        conf = input(\"Choose a Conference: West or East. \")\n",
    "        if(conf.lower() == 'west' or conf.lower() == 'east'):\n",
    "            inputvalues[0].append(lowerConfDict[conf.lower()])\n",
    "            if(conf.lower() == 'west'):\n",
    "                isWest = True\n",
    "\n",
    "            break\n",
    "        else:\n",
    "            print(\"Please enter a conference: \")\n",
    "    while(1):\n",
    "        if(isWest):\n",
    "            print(\"Northwest\")\n",
    "            print(\"Pacific\")\n",
    "            print(\"Southwest\")\n",
    "\n",
    "            div = input(\"Type the West division: \")\n",
    "            if(div.lower() in west):\n",
    "                inputvalues[0].append(lowerDivDict[div.lower()])\n",
    "                break\n",
    "            else:\n",
    "                print(\"Please enter a correct division: \")       \n",
    "\n",
    "        else:\n",
    "            print(\"Atlantic\")\n",
    "            print(\"Central\")\n",
    "            print(\"Southeast\")\n",
    "\n",
    "            div = input(\"Type the East division: \")\n",
    "            if(div.lower() in east):\n",
    "                inputvalues[0].append(lowerDivDict[div.lower()])\n",
    "                break\n",
    "            else:\n",
    "                print(\"Please enter a correct division: \")\n",
    "\n",
    "\n",
    "    while(1):\n",
    "        answer = input(\"Do you want the team in the NBA playoffs? \")\n",
    "        if(answer.lower() == 'yes'):\n",
    "            break\n",
    "        elif(answer.lower() == 'no'):\n",
    "            po = nbaClient.predict([[0,0,0,inputvalues[0][0], inputvalues[0][1]]])\n",
    "            wins = po[0] * 82\n",
    "            realTimeWins = math.ceil(wins)\n",
    "            print(\"Based on these conditions, this  non-playoff  team is expected to have a record of {}-{}. \".format(realTimeWins, 82-realTimeWins))\n",
    "            # we can assume everything else here is 0\n",
    "            return\n",
    "            # this is the average non-playoff team\n",
    "        else:\n",
    "            print(\"Please enter a valid answer. \")\n",
    "\n",
    "\n",
    "\n",
    "    while(1):\n",
    "        answer = input(\"Do you want the team at the top of their division? \")\n",
    "        if(answer.lower() == 'yes'):\n",
    "            break\n",
    "        elif(answer.lower() == 'no'):\n",
    "            po = nbaClient.predict([[1,0,0,inputvalues[0][0], inputvalues[0][1]]])\n",
    "            wins = po[0] * 82\n",
    "            realTimeWins = math.ceil(wins)\n",
    "            print(\"Based on these conditions, this decent playoff team is expected to have a record of {}-{}. \".format(realTimeWins, 82-realTimeWins))\n",
    "            return\n",
    "            # we can assume everything else here is 0\n",
    "            # this is the playoff team that doesn't win the division\n",
    "        else:\n",
    "            print(\"Please enter a valid answer. \")\n",
    "\n",
    "\n",
    "    while(1):\n",
    "        answer = input(\"Do you want the team at the top of the conference? \")\n",
    "        if(answer.lower() == 'yes'):\n",
    "\n",
    "            inputvalues[0].append(1)\n",
    "            po = nbaClient.predict([[1,1,1,inputvalues[0][0], inputvalues[0][1]]])\n",
    "            wins = po[0] * 82\n",
    "            realTimeWins = math.ceil(wins)\n",
    "            print(\"Based on these conditions, this  elite playoff  team is expected to have a record of {}-{}. \".format(realTimeWins, 82-realTimeWins))\n",
    "            return\n",
    "            # can do the rest here\n",
    "        elif(answer.lower() == 'no'):\n",
    "            inputvalues[0].append(0)\n",
    "            po = nbaClient.predict([[1,1,0,inputvalues[0][0], inputvalues[0][1]]])\n",
    "            wins = po[0] * 82\n",
    "            realTimeWins = math.ceil(wins)\n",
    "            print(\"Based on these conditions, this good playoff team is expected to have a record of {}-{}. \".format(realTimeWins, 82-realTimeWins))\n",
    "            return\n",
    "            # we can assume everything else here is 0\n",
    "            # this is the playoff team that doesn't win the division\n",
    "        else:\n",
    "            print(\"Please enter a valid answer. \")        \n",
    "\n",
    "nbaAnalysis()\n",
    "        \n",
    "        \n",
    "\n",
    "\n"
   ]
  },
  {
   "cell_type": "code",
   "execution_count": 3,
   "metadata": {},
   "outputs": [],
   "source": [
    "from sklearn import svm\n",
    "import numpy as np"
   ]
  },
  {
   "cell_type": "code",
   "execution_count": 4,
   "metadata": {},
   "outputs": [
    {
     "name": "stdout",
     "output_type": "stream",
     "text": [
      "hiL\n"
     ]
    }
   ],
   "source": [
    "print(\"hiL\")"
   ]
  },
  {
   "cell_type": "code",
   "execution_count": null,
   "metadata": {},
   "outputs": [],
   "source": []
  }
 ],
 "metadata": {
  "kernelspec": {
   "display_name": "Python 3",
   "language": "python",
   "name": "python3"
  },
  "language_info": {
   "codemirror_mode": {
    "name": "ipython",
    "version": 3
   },
   "file_extension": ".py",
   "mimetype": "text/x-python",
   "name": "python",
   "nbconvert_exporter": "python",
   "pygments_lexer": "ipython3",
   "version": "3.6.4"
  }
 },
 "nbformat": 4,
 "nbformat_minor": 2
}
